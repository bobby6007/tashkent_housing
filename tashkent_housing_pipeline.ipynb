{
 "cells": [
  {
   "cell_type": "code",
   "execution_count": 2,
   "id": "7854d938",
   "metadata": {},
   "outputs": [],
   "source": [
    "import pandas as pd\n",
    "import numpy as np\n",
    "import sklearn\n",
    "\n",
    "URL = 'https://raw.githubusercontent.com/bobby6007/PortfolioProjects/main/cleaned_tashkent_housing'\n",
    "df=pd.read_csv(URL)\n",
    "\n",
    "from sklearn.model_selection import train_test_split\n",
    "train_set, test_set =train_test_split(df, test_size=0.2, random_state=35)\n",
    "\n",
    "X_train=train_set.drop('price',axis=1)\n",
    "y = train_set['price'].copy()\n",
    "\n",
    "X_num = housing.drop(['district', 'location'],axis=1)"
   ]
  },
  {
   "cell_type": "code",
   "execution_count": 3,
   "id": "23678a37",
   "metadata": {},
   "outputs": [],
   "source": [
    "from sklearn.pipeline import Pipeline\n",
    "from sklearn.preprocessing import OrdinalEncoder, StandardScaler\n",
    "\n",
    "num_pipeline = Pipeline([\n",
    "          ('std_scaler', StandardScaler())             \n",
    "])"
   ]
  },
  {
   "cell_type": "code",
   "execution_count": 4,
   "id": "bed6766b",
   "metadata": {},
   "outputs": [],
   "source": [
    "from sklearn.compose import ColumnTransformer\n",
    "\n",
    "num_attribs = list(X_num)\n",
    "cat_attribs = ['district']\n",
    "\n",
    "full_pipeline = ColumnTransformer([\n",
    "    ('num', num_pipeline, num_attribs),\n",
    "    ('cat', OrdinalEncoder(), cat_attribs)\n",
    "])"
   ]
  },
  {
   "cell_type": "code",
   "execution_count": 5,
   "id": "a601a128",
   "metadata": {},
   "outputs": [],
   "source": [
    "X_prepared = full_pipeline.fit_transform(X_train)"
   ]
  },
  {
   "cell_type": "code",
   "execution_count": 6,
   "id": "53a4402d",
   "metadata": {},
   "outputs": [
    {
     "data": {
      "text/plain": [
       "array([[ 0.38495289, -0.11138749,  1.0273817 ,  1.14499213,  5.        ],\n",
       "       [-0.57143469, -1.03250677,  0.1376173 ,  1.14499213,  2.        ],\n",
       "       [ 0.38495289, -0.20667569,  0.1376173 , -0.76927335,  5.        ],\n",
       "       [ 0.38495289,  0.52386718,  0.5824995 , -0.38642025,  1.        ],\n",
       "       [-0.57143469, -0.55606576,  0.1376173 , -0.76927335, 11.        ]])"
      ]
     },
     "execution_count": 6,
     "metadata": {},
     "output_type": "execute_result"
    }
   ],
   "source": [
    "X_prepared[0:5,:]"
   ]
  },
  {
   "cell_type": "markdown",
   "id": "9f8c8082",
   "metadata": {},
   "source": [
    "Machine learning"
   ]
  },
  {
   "cell_type": "code",
   "execution_count": 7,
   "id": "58a9129c",
   "metadata": {},
   "outputs": [],
   "source": [
    "from sklearn.linear_model import LinearRegression\n",
    "\n",
    "LR_model = LinearRegression()"
   ]
  },
  {
   "cell_type": "code",
   "execution_count": 8,
   "id": "2e029e62",
   "metadata": {},
   "outputs": [
    {
     "data": {
      "text/plain": [
       "LinearRegression()"
      ]
     },
     "execution_count": 8,
     "metadata": {},
     "output_type": "execute_result"
    }
   ],
   "source": [
    "LR_model.fit(X_prepared, y)"
   ]
  },
  {
   "cell_type": "markdown",
   "id": "74679554",
   "metadata": {},
   "source": [
    "Evaluating the model"
   ]
  },
  {
   "cell_type": "code",
   "execution_count": 13,
   "id": "66a33100",
   "metadata": {},
   "outputs": [
    {
     "data": {
      "text/html": [
       "<div>\n",
       "<style scoped>\n",
       "    .dataframe tbody tr th:only-of-type {\n",
       "        vertical-align: middle;\n",
       "    }\n",
       "\n",
       "    .dataframe tbody tr th {\n",
       "        vertical-align: top;\n",
       "    }\n",
       "\n",
       "    .dataframe thead th {\n",
       "        text-align: right;\n",
       "    }\n",
       "</style>\n",
       "<table border=\"1\" class=\"dataframe\">\n",
       "  <thead>\n",
       "    <tr style=\"text-align: right;\">\n",
       "      <th></th>\n",
       "      <th>location</th>\n",
       "      <th>district</th>\n",
       "      <th>rooms</th>\n",
       "      <th>size</th>\n",
       "      <th>level</th>\n",
       "      <th>max_levels</th>\n",
       "    </tr>\n",
       "  </thead>\n",
       "  <tbody>\n",
       "    <tr>\n",
       "      <th>6314</th>\n",
       "      <td>город Ташкент, Мирабадский район, Ул Кунаева</td>\n",
       "      <td>Мирабадский</td>\n",
       "      <td>4</td>\n",
       "      <td>90</td>\n",
       "      <td>4</td>\n",
       "      <td>4</td>\n",
       "    </tr>\n",
       "    <tr>\n",
       "      <th>2782</th>\n",
       "      <td>город Ташкент, Мирзо-Улугбекский район, Карасу...</td>\n",
       "      <td>Мирзо-Улугбекский</td>\n",
       "      <td>3</td>\n",
       "      <td>80</td>\n",
       "      <td>5</td>\n",
       "      <td>5</td>\n",
       "    </tr>\n",
       "    <tr>\n",
       "      <th>3984</th>\n",
       "      <td>город Ташкент, Мирзо-Улугбекский район, Феруза-2</td>\n",
       "      <td>Мирзо-Улугбекский</td>\n",
       "      <td>1</td>\n",
       "      <td>42</td>\n",
       "      <td>1</td>\n",
       "      <td>4</td>\n",
       "    </tr>\n",
       "    <tr>\n",
       "      <th>5156</th>\n",
       "      <td>город Ташкент, Чиланзарский район, Катта козир...</td>\n",
       "      <td>Чиланзарский</td>\n",
       "      <td>3</td>\n",
       "      <td>70</td>\n",
       "      <td>8</td>\n",
       "      <td>9</td>\n",
       "    </tr>\n",
       "    <tr>\n",
       "      <th>5688</th>\n",
       "      <td>город Ташкент, Мирзо-Улугбекский район, жилой ...</td>\n",
       "      <td>Мирзо-Улугбекский</td>\n",
       "      <td>2</td>\n",
       "      <td>66</td>\n",
       "      <td>2</td>\n",
       "      <td>8</td>\n",
       "    </tr>\n",
       "  </tbody>\n",
       "</table>\n",
       "</div>"
      ],
      "text/plain": [
       "                                               location           district  \\\n",
       "6314       город Ташкент, Мирабадский район, Ул Кунаева        Мирабадский   \n",
       "2782  город Ташкент, Мирзо-Улугбекский район, Карасу...  Мирзо-Улугбекский   \n",
       "3984   город Ташкент, Мирзо-Улугбекский район, Феруза-2  Мирзо-Улугбекский   \n",
       "5156  город Ташкент, Чиланзарский район, Катта козир...       Чиланзарский   \n",
       "5688  город Ташкент, Мирзо-Улугбекский район, жилой ...  Мирзо-Улугбекский   \n",
       "\n",
       "      rooms  size  level  max_levels  \n",
       "6314      4    90      4           4  \n",
       "2782      3    80      5           5  \n",
       "3984      1    42      1           4  \n",
       "5156      3    70      8           9  \n",
       "5688      2    66      2           8  "
      ]
     },
     "execution_count": 13,
     "metadata": {},
     "output_type": "execute_result"
    }
   ],
   "source": [
    "# selecting random 5 rows\n",
    "test_data = X_train.sample(5)\n",
    "test_data"
   ]
  },
  {
   "cell_type": "code",
   "execution_count": 14,
   "id": "714ee2e8",
   "metadata": {},
   "outputs": [
    {
     "data": {
      "text/plain": [
       "6314    90000\n",
       "2782    39000\n",
       "3984    26500\n",
       "5156    49500\n",
       "5688    55000\n",
       "Name: price, dtype: int64"
      ]
     },
     "execution_count": 14,
     "metadata": {},
     "output_type": "execute_result"
    }
   ],
   "source": [
    "# yuqoridagi qatorlarga mos keluvchi narxlarni ajratib olamiz (biz aynan shu qiymatlarni bashorat qilishimiz kerak)\n",
    "test_label = y.loc[test_data.index]\n",
    "test_label"
   ]
  },
  {
   "cell_type": "code",
   "execution_count": 15,
   "id": "6d2728d4",
   "metadata": {},
   "outputs": [
    {
     "data": {
      "text/plain": [
       "array([[ 1.34134046,  0.58739265,  0.1376173 , -0.76927335,  1.        ],\n",
       "       [ 0.38495289,  0.26976531,  0.5824995 , -0.38642025,  2.        ],\n",
       "       [-1.52782227, -0.93721857, -1.19702931, -0.76927335,  2.        ],\n",
       "       [ 0.38495289, -0.04786202,  1.91714611,  1.14499213,  6.        ],\n",
       "       [-0.57143469, -0.17491296, -0.75214711,  0.76213904,  2.        ]])"
      ]
     },
     "execution_count": 15,
     "metadata": {},
     "output_type": "execute_result"
    }
   ],
   "source": [
    "test_data_prepared = full_pipeline.transform(test_data)\n",
    "test_data_prepared"
   ]
  },
  {
   "cell_type": "code",
   "execution_count": 16,
   "id": "33054fba",
   "metadata": {},
   "outputs": [
    {
     "data": {
      "text/plain": [
       "array([67793.7207984 , 63062.71173601, 40687.43829263, 45392.65308437,\n",
       "       61618.22019061])"
      ]
     },
     "execution_count": 16,
     "metadata": {},
     "output_type": "execute_result"
    }
   ],
   "source": [
    "predicted_data = LR_model.predict(test_data_prepared)\n",
    "predicted_data"
   ]
  },
  {
   "cell_type": "code",
   "execution_count": 17,
   "id": "ad44ea61",
   "metadata": {},
   "outputs": [
    {
     "data": {
      "text/html": [
       "<div>\n",
       "<style scoped>\n",
       "    .dataframe tbody tr th:only-of-type {\n",
       "        vertical-align: middle;\n",
       "    }\n",
       "\n",
       "    .dataframe tbody tr th {\n",
       "        vertical-align: top;\n",
       "    }\n",
       "\n",
       "    .dataframe thead th {\n",
       "        text-align: right;\n",
       "    }\n",
       "</style>\n",
       "<table border=\"1\" class=\"dataframe\">\n",
       "  <thead>\n",
       "    <tr style=\"text-align: right;\">\n",
       "      <th></th>\n",
       "      <th>Prognoz</th>\n",
       "      <th>Real baxosi</th>\n",
       "    </tr>\n",
       "  </thead>\n",
       "  <tbody>\n",
       "    <tr>\n",
       "      <th>6314</th>\n",
       "      <td>67793.720798</td>\n",
       "      <td>90000</td>\n",
       "    </tr>\n",
       "    <tr>\n",
       "      <th>2782</th>\n",
       "      <td>63062.711736</td>\n",
       "      <td>39000</td>\n",
       "    </tr>\n",
       "    <tr>\n",
       "      <th>3984</th>\n",
       "      <td>40687.438293</td>\n",
       "      <td>26500</td>\n",
       "    </tr>\n",
       "    <tr>\n",
       "      <th>5156</th>\n",
       "      <td>45392.653084</td>\n",
       "      <td>49500</td>\n",
       "    </tr>\n",
       "    <tr>\n",
       "      <th>5688</th>\n",
       "      <td>61618.220191</td>\n",
       "      <td>55000</td>\n",
       "    </tr>\n",
       "  </tbody>\n",
       "</table>\n",
       "</div>"
      ],
      "text/plain": [
       "           Prognoz  Real baxosi\n",
       "6314  67793.720798        90000\n",
       "2782  63062.711736        39000\n",
       "3984  40687.438293        26500\n",
       "5156  45392.653084        49500\n",
       "5688  61618.220191        55000"
      ]
     },
     "execution_count": 17,
     "metadata": {},
     "output_type": "execute_result"
    }
   ],
   "source": [
    "pd.DataFrame({'Prognoz':predicted_data, 'Real baxosi': test_label})"
   ]
  },
  {
   "cell_type": "code",
   "execution_count": 19,
   "id": "55251196",
   "metadata": {},
   "outputs": [
    {
     "data": {
      "text/html": [
       "<div>\n",
       "<style scoped>\n",
       "    .dataframe tbody tr th:only-of-type {\n",
       "        vertical-align: middle;\n",
       "    }\n",
       "\n",
       "    .dataframe tbody tr th {\n",
       "        vertical-align: top;\n",
       "    }\n",
       "\n",
       "    .dataframe thead th {\n",
       "        text-align: right;\n",
       "    }\n",
       "</style>\n",
       "<table border=\"1\" class=\"dataframe\">\n",
       "  <thead>\n",
       "    <tr style=\"text-align: right;\">\n",
       "      <th></th>\n",
       "      <th>location</th>\n",
       "      <th>district</th>\n",
       "      <th>rooms</th>\n",
       "      <th>size</th>\n",
       "      <th>level</th>\n",
       "      <th>max_levels</th>\n",
       "    </tr>\n",
       "  </thead>\n",
       "  <tbody>\n",
       "    <tr>\n",
       "      <th>648</th>\n",
       "      <td>город Ташкент, Шайхантахурский район, 1-й прое...</td>\n",
       "      <td>Шайхантахурский</td>\n",
       "      <td>1</td>\n",
       "      <td>41</td>\n",
       "      <td>4</td>\n",
       "      <td>6</td>\n",
       "    </tr>\n",
       "    <tr>\n",
       "      <th>4084</th>\n",
       "      <td>город Ташкент, Яккасарайский район, Малая коль...</td>\n",
       "      <td>Яккасарайский</td>\n",
       "      <td>3</td>\n",
       "      <td>70</td>\n",
       "      <td>2</td>\n",
       "      <td>5</td>\n",
       "    </tr>\n",
       "    <tr>\n",
       "      <th>7091</th>\n",
       "      <td>город Ташкент, Мирзо-Улугбекский район, Корзин...</td>\n",
       "      <td>Мирзо-Улугбекский</td>\n",
       "      <td>3</td>\n",
       "      <td>82</td>\n",
       "      <td>8</td>\n",
       "      <td>9</td>\n",
       "    </tr>\n",
       "    <tr>\n",
       "      <th>134</th>\n",
       "      <td>город Ташкент, Юнусабадский район, Юнусабад 11...</td>\n",
       "      <td>Юнусабадский</td>\n",
       "      <td>2</td>\n",
       "      <td>61</td>\n",
       "      <td>1</td>\n",
       "      <td>4</td>\n",
       "    </tr>\n",
       "    <tr>\n",
       "      <th>2793</th>\n",
       "      <td>город Ташкент, Чиланзарский район, Чиланзар 10...</td>\n",
       "      <td>Чиланзарский</td>\n",
       "      <td>3</td>\n",
       "      <td>111</td>\n",
       "      <td>5</td>\n",
       "      <td>6</td>\n",
       "    </tr>\n",
       "    <tr>\n",
       "      <th>...</th>\n",
       "      <td>...</td>\n",
       "      <td>...</td>\n",
       "      <td>...</td>\n",
       "      <td>...</td>\n",
       "      <td>...</td>\n",
       "      <td>...</td>\n",
       "    </tr>\n",
       "    <tr>\n",
       "      <th>449</th>\n",
       "      <td>город Ташкент, Чиланзарский район, Мукими</td>\n",
       "      <td>Чиланзарский</td>\n",
       "      <td>3</td>\n",
       "      <td>110</td>\n",
       "      <td>2</td>\n",
       "      <td>8</td>\n",
       "    </tr>\n",
       "    <tr>\n",
       "      <th>2130</th>\n",
       "      <td>город Ташкент, Мирзо-Улугбекский район, Карасу...</td>\n",
       "      <td>Мирзо-Улугбекский</td>\n",
       "      <td>2</td>\n",
       "      <td>65</td>\n",
       "      <td>5</td>\n",
       "      <td>5</td>\n",
       "    </tr>\n",
       "    <tr>\n",
       "      <th>3792</th>\n",
       "      <td>город Ташкент, Мирзо-Улугбекский район, Улица ...</td>\n",
       "      <td>Мирзо-Улугбекский</td>\n",
       "      <td>1</td>\n",
       "      <td>22</td>\n",
       "      <td>4</td>\n",
       "      <td>4</td>\n",
       "    </tr>\n",
       "    <tr>\n",
       "      <th>6043</th>\n",
       "      <td>город Ташкент, Учтепинский район, Чиланзар 24-...</td>\n",
       "      <td>Учтепинский</td>\n",
       "      <td>2</td>\n",
       "      <td>48</td>\n",
       "      <td>5</td>\n",
       "      <td>5</td>\n",
       "    </tr>\n",
       "    <tr>\n",
       "      <th>3356</th>\n",
       "      <td>город Ташкент, Юнусабадский район, Юнусабад 7-...</td>\n",
       "      <td>Юнусабадский</td>\n",
       "      <td>3</td>\n",
       "      <td>105</td>\n",
       "      <td>5</td>\n",
       "      <td>6</td>\n",
       "    </tr>\n",
       "  </tbody>\n",
       "</table>\n",
       "<p>1476 rows × 6 columns</p>\n",
       "</div>"
      ],
      "text/plain": [
       "                                               location           district  \\\n",
       "648   город Ташкент, Шайхантахурский район, 1-й прое...    Шайхантахурский   \n",
       "4084  город Ташкент, Яккасарайский район, Малая коль...      Яккасарайский   \n",
       "7091  город Ташкент, Мирзо-Улугбекский район, Корзин...  Мирзо-Улугбекский   \n",
       "134   город Ташкент, Юнусабадский район, Юнусабад 11...       Юнусабадский   \n",
       "2793  город Ташкент, Чиланзарский район, Чиланзар 10...       Чиланзарский   \n",
       "...                                                 ...                ...   \n",
       "449           город Ташкент, Чиланзарский район, Мукими       Чиланзарский   \n",
       "2130  город Ташкент, Мирзо-Улугбекский район, Карасу...  Мирзо-Улугбекский   \n",
       "3792  город Ташкент, Мирзо-Улугбекский район, Улица ...  Мирзо-Улугбекский   \n",
       "6043  город Ташкент, Учтепинский район, Чиланзар 24-...        Учтепинский   \n",
       "3356  город Ташкент, Юнусабадский район, Юнусабад 7-...       Юнусабадский   \n",
       "\n",
       "      rooms  size  level  max_levels  \n",
       "648       1    41      4           6  \n",
       "4084      3    70      2           5  \n",
       "7091      3    82      8           9  \n",
       "134       2    61      1           4  \n",
       "2793      3   111      5           6  \n",
       "...     ...   ...    ...         ...  \n",
       "449       3   110      2           8  \n",
       "2130      2    65      5           5  \n",
       "3792      1    22      4           4  \n",
       "6043      2    48      5           5  \n",
       "3356      3   105      5           6  \n",
       "\n",
       "[1476 rows x 6 columns]"
      ]
     },
     "execution_count": 19,
     "metadata": {},
     "output_type": "execute_result"
    }
   ],
   "source": [
    "X_test = test_set.drop('price', axis=1)\n",
    "X_test"
   ]
  },
  {
   "cell_type": "code",
   "execution_count": 20,
   "id": "ab6ea647",
   "metadata": {},
   "outputs": [
    {
     "data": {
      "text/plain": [
       "648      23542\n",
       "4084     70000\n",
       "7091     58000\n",
       "134      55000\n",
       "2793     85000\n",
       "         ...  \n",
       "449     160000\n",
       "2130     37000\n",
       "3792     19000\n",
       "6043     27000\n",
       "3356     66455\n",
       "Name: price, Length: 1476, dtype: int64"
      ]
     },
     "execution_count": 20,
     "metadata": {},
     "output_type": "execute_result"
    }
   ],
   "source": [
    "y_test = test_set['price'].copy()\n",
    "y_test"
   ]
  },
  {
   "cell_type": "code",
   "execution_count": 21,
   "id": "9eb50bd2",
   "metadata": {},
   "outputs": [],
   "source": [
    "X_test_prepared = full_pipeline.transform(X_test)"
   ]
  },
  {
   "cell_type": "code",
   "execution_count": 22,
   "id": "bd025b74",
   "metadata": {},
   "outputs": [],
   "source": [
    "y_predicted = LR_model.predict(X_test_prepared)"
   ]
  },
  {
   "cell_type": "code",
   "execution_count": 23,
   "id": "12660862",
   "metadata": {},
   "outputs": [
    {
     "name": "stdout",
     "output_type": "stream",
     "text": [
      "24370.106130171604\n"
     ]
    }
   ],
   "source": [
    "from sklearn.metrics import mean_squared_error\n",
    "lin_mse = mean_squared_error(y_test, y_predicted)\n",
    "# RMSE hisoblaymiz\n",
    "lin_rmse = np.sqrt(lin_mse)\n",
    "print(lin_rmse)"
   ]
  },
  {
   "cell_type": "markdown",
   "id": "407ff2a0",
   "metadata": {},
   "source": [
    "Training with other models"
   ]
  },
  {
   "cell_type": "markdown",
   "id": "8bdc9d56",
   "metadata": {},
   "source": [
    "Decision Tree"
   ]
  },
  {
   "cell_type": "code",
   "execution_count": 24,
   "id": "e81b5178",
   "metadata": {},
   "outputs": [
    {
     "data": {
      "text/plain": [
       "DecisionTreeRegressor()"
      ]
     },
     "execution_count": 24,
     "metadata": {},
     "output_type": "execute_result"
    }
   ],
   "source": [
    "from sklearn.tree import DecisionTreeRegressor\n",
    "Tree_model = DecisionTreeRegressor()\n",
    "Tree_model.fit(X_prepared, y)"
   ]
  },
  {
   "cell_type": "code",
   "execution_count": 25,
   "id": "c4eb1cee",
   "metadata": {},
   "outputs": [],
   "source": [
    "y_predicted = Tree_model.predict(X_test_prepared)"
   ]
  },
  {
   "cell_type": "code",
   "execution_count": 26,
   "id": "ee0fb154",
   "metadata": {},
   "outputs": [
    {
     "name": "stdout",
     "output_type": "stream",
     "text": [
      "21839.89318692488\n"
     ]
    }
   ],
   "source": [
    "lin_mse = mean_squared_error(y_test, y_predicted)\n",
    "# RMSE hisoblaymiz\n",
    "lin_rmse = np.sqrt(lin_mse)\n",
    "print(lin_rmse)"
   ]
  },
  {
   "cell_type": "markdown",
   "id": "727580ef",
   "metadata": {},
   "source": [
    "Random Forest"
   ]
  },
  {
   "cell_type": "code",
   "execution_count": 27,
   "id": "e5ff6903",
   "metadata": {},
   "outputs": [
    {
     "data": {
      "text/plain": [
       "RandomForestRegressor()"
      ]
     },
     "execution_count": 27,
     "metadata": {},
     "output_type": "execute_result"
    }
   ],
   "source": [
    "from sklearn.ensemble import RandomForestRegressor\n",
    "RF_model = RandomForestRegressor()\n",
    "RF_model.fit(X_prepared, y)"
   ]
  },
  {
   "cell_type": "code",
   "execution_count": 28,
   "id": "496c65c8",
   "metadata": {},
   "outputs": [
    {
     "name": "stdout",
     "output_type": "stream",
     "text": [
      "19143.350018722984\n"
     ]
    }
   ],
   "source": [
    "y_predicted = RF_model.predict(X_test_prepared)\n",
    "lin_mse = mean_squared_error(y_test, y_predicted)\n",
    "# RMSE hisoblaymiz\n",
    "lin_rmse = np.sqrt(lin_mse)\n",
    "print(lin_rmse)"
   ]
  },
  {
   "cell_type": "markdown",
   "id": "b849f783",
   "metadata": {},
   "source": [
    "Cross Validation "
   ]
  },
  {
   "cell_type": "code",
   "execution_count": 29,
   "id": "45727aa9",
   "metadata": {},
   "outputs": [],
   "source": [
    "X = df.drop(\"price\", axis=1)\n",
    "y = df[\"price\"].copy()\n",
    "\n",
    "X_prepared = full_pipeline.transform(X)"
   ]
  },
  {
   "cell_type": "code",
   "execution_count": 30,
   "id": "ce0c4412",
   "metadata": {},
   "outputs": [],
   "source": [
    "def display_scores(scores):\n",
    "    print(\"Scores:\", scores)\n",
    "    print(\"Mean:\", scores.mean())\n",
    "    print(\"Std.dev:\", scores.std())"
   ]
  },
  {
   "cell_type": "code",
   "execution_count": 31,
   "id": "08e8ee13",
   "metadata": {},
   "outputs": [],
   "source": [
    "from sklearn.model_selection import cross_val_score"
   ]
  },
  {
   "cell_type": "code",
   "execution_count": 32,
   "id": "4d278b3e",
   "metadata": {},
   "outputs": [],
   "source": [
    "scores = cross_val_score(LR_model, X_prepared, y, scoring=\"neg_mean_squared_error\", cv=10)\n",
    "LR_rmse_scores = np.sqrt(-scores)"
   ]
  },
  {
   "cell_type": "code",
   "execution_count": 33,
   "id": "e00702f4",
   "metadata": {},
   "outputs": [
    {
     "name": "stdout",
     "output_type": "stream",
     "text": [
      "Scores: [20752.35867762 18846.67454747 24366.88449853 26988.9516788\n",
      " 27071.55215691 26293.15561581 22907.21948782 24949.23773576\n",
      " 21142.1262093  17022.24101739]\n",
      "Mean: 23034.040162540146\n",
      "Std.dev: 3323.9490001633244\n"
     ]
    }
   ],
   "source": [
    "display_scores(LR_rmse_scores)"
   ]
  },
  {
   "cell_type": "markdown",
   "id": "86383b2a",
   "metadata": {},
   "source": [
    "Decision tree"
   ]
  },
  {
   "cell_type": "code",
   "execution_count": 34,
   "id": "79089454",
   "metadata": {},
   "outputs": [
    {
     "name": "stdout",
     "output_type": "stream",
     "text": [
      "Scores: [21541.60674282 24380.63423136 28455.67063982 27000.16383131\n",
      " 31055.39543678 25263.11808265 26831.77306153 22560.5595376\n",
      " 25308.34536035 17354.52015574]\n",
      "Mean: 24975.178707997235\n",
      "Std.dev: 3645.161149858546\n"
     ]
    }
   ],
   "source": [
    "scores = cross_val_score(Tree_model, X_prepared, y, scoring=\"neg_mean_squared_error\", cv=10)\n",
    "LR_rmse_scores = np.sqrt(-scores)\n",
    "display_scores(LR_rmse_scores)"
   ]
  },
  {
   "cell_type": "markdown",
   "id": "055eb8aa",
   "metadata": {},
   "source": [
    "Random Forest"
   ]
  },
  {
   "cell_type": "code",
   "execution_count": 35,
   "id": "5df3ea97",
   "metadata": {},
   "outputs": [
    {
     "name": "stdout",
     "output_type": "stream",
     "text": [
      "Scores: [16725.55962627 17115.09923685 22842.34639625 23250.26835044\n",
      " 22062.71181463 21320.83685064 20674.55570082 19207.07298678\n",
      " 18409.70314991 13705.19035678]\n",
      "Mean: 19531.334446938963\n",
      "Std.dev: 2910.809796741566\n"
     ]
    }
   ],
   "source": [
    "scores = cross_val_score(RF_model, X_prepared, y, scoring=\"neg_mean_squared_error\", cv=10)\n",
    "LR_rmse_scores = np.sqrt(-scores)\n",
    "display_scores(LR_rmse_scores)"
   ]
  },
  {
   "cell_type": "code",
   "execution_count": null,
   "id": "77339614",
   "metadata": {},
   "outputs": [],
   "source": []
  }
 ],
 "metadata": {
  "kernelspec": {
   "display_name": "Python 3 (ipykernel)",
   "language": "python",
   "name": "python3"
  },
  "language_info": {
   "codemirror_mode": {
    "name": "ipython",
    "version": 3
   },
   "file_extension": ".py",
   "mimetype": "text/x-python",
   "name": "python",
   "nbconvert_exporter": "python",
   "pygments_lexer": "ipython3",
   "version": "3.9.7"
  }
 },
 "nbformat": 4,
 "nbformat_minor": 5
}
